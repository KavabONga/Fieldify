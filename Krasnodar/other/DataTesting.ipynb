{
 "cells": [
  {
   "cell_type": "code",
   "execution_count": 8,
   "metadata": {
    "collapsed": true
   },
   "outputs": [],
   "source": [
    "import requests"
   ]
  },
  {
   "cell_type": "code",
   "execution_count": 20,
   "metadata": {},
   "outputs": [
    {
     "data": {
      "text/plain": [
       "26.128352165222168"
      ]
     },
     "execution_count": 20,
     "metadata": {},
     "output_type": "execute_result"
    }
   ],
   "source": [
    "len(text) / (1024 * 1024)"
   ]
  },
  {
   "cell_type": "code",
   "execution_count": 9,
   "metadata": {
    "collapsed": true
   },
   "outputs": [],
   "source": [
    "text = open('Krasnodar_agriculture.geojson').read()"
   ]
  },
  {
   "cell_type": "code",
   "execution_count": 10,
   "metadata": {},
   "outputs": [
    {
     "data": {
      "text/plain": [
       "27397563"
      ]
     },
     "execution_count": 10,
     "metadata": {},
     "output_type": "execute_result"
    }
   ],
   "source": [
    "open('Agriculture_unicode.geojson', encoding='windows-1251', mode='w').write(text)"
   ]
  },
  {
   "cell_type": "code",
   "execution_count": 21,
   "metadata": {
    "collapsed": true
   },
   "outputs": [],
   "source": [
    "objs = eval(text)"
   ]
  },
  {
   "cell_type": "code",
   "execution_count": 31,
   "metadata": {},
   "outputs": [
    {
     "data": {
      "text/plain": [
       "[{'geometry': {'coordinates': [[[[39.2626986, 45.1785571],\n",
       "      [39.2829778, 45.1577844],\n",
       "      [39.2801137, 45.157447],\n",
       "      [39.2798194, 45.1565018],\n",
       "      [39.2705532, 45.1568402],\n",
       "      [39.2620161, 45.1578386],\n",
       "      [39.2616652, 45.1785652],\n",
       "      [39.2626986, 45.1785571]],\n",
       "     [[39.2719913, 45.1621431],\n",
       "      [39.2719042, 45.16484],\n",
       "      [39.2705183, 45.164998],\n",
       "      [39.270501, 45.165315],\n",
       "      [39.2703028, 45.1653218],\n",
       "      [39.2703232, 45.1621939],\n",
       "      [39.2703383, 45.1569938],\n",
       "      [39.2705029, 45.1569787],\n",
       "      [39.2706079, 45.1621986],\n",
       "      [39.2719913, 45.1621431]]]],\n",
       "   'type': 'MultiPolygon'},\n",
       "  'properties': {'LANDUSE': 'farmland', 'OSM_ID': '921201'},\n",
       "  'type': 'Feature'},\n",
       " {'geometry': {'coordinates': [[[[36.9167853, 45.4268421],\n",
       "      [36.917277, 45.4264954],\n",
       "      [36.9176699, 45.4137787],\n",
       "      [36.9176696, 45.4135662],\n",
       "      [36.9177583, 45.4035991],\n",
       "      [36.9172807, 45.4035057],\n",
       "      [36.9167853, 45.4268421]],\n",
       "     [[36.9173942, 45.4039743],\n",
       "      [36.9176252, 45.4039785],\n",
       "      [36.9174537, 45.4130945],\n",
       "      [36.917207, 45.4195531],\n",
       "      [36.9171458, 45.4195899],\n",
       "      [36.9170495, 45.4195224],\n",
       "      [36.9172758, 45.4128215],\n",
       "      [36.9173715, 45.4048524],\n",
       "      [36.9173942, 45.4039743]]]],\n",
       "   'type': 'MultiPolygon'},\n",
       "  'properties': {'LANDUSE': 'meadow', 'OSM_ID': '1119555'},\n",
       "  'type': 'Feature'}]"
      ]
     },
     "execution_count": 31,
     "metadata": {},
     "output_type": "execute_result"
    }
   ],
   "source": [
    "objs['features'][:2]"
   ]
  },
  {
   "cell_type": "code",
   "execution_count": 12,
   "metadata": {
    "collapsed": true
   },
   "outputs": [],
   "source": [
    "class Vector:\n",
    "    def __init__(self, x=0, y=0):\n",
    "        self.x = x\n",
    "        self.y = y\n",
    "    def __add__(self, other):\n",
    "        return Vector(self.x + other.x, self.y + other.y)\n",
    "    def __neg__(self):\n",
    "        return Vector(-self.x, -self.y)\n",
    "    def __sub__(self, other):\n",
    "        return self + (-other)\n",
    "    def __mul__(self, k):\n",
    "        return Vector(self.x * k, self.y * k)\n",
    "    def tup(self):\n",
    "        return self.x, self.y\n",
    "    def __str__(self):\n",
    "        return str((self.x, self.y))\n",
    "def oblique(a, b):\n",
    "    return (a.x * b.y - a.y * b.x) / 2\n",
    "def poly_square(poly):\n",
    "    m = Vector(*poly[0])\n",
    "    res = 0\n",
    "    for i in range(1, len(poly)):\n",
    "        a, b = Vector(*poly[i]) - m, Vector(*poly[i - 1]) - m\n",
    "        res += oblique(a, b)\n",
    "    return res\n",
    "def mid(poly):\n",
    "    res = Vector()\n",
    "    for i in poly:\n",
    "        res = res + Vector(*i)\n",
    "    return res * (1 / len(poly))"
   ]
  },
  {
   "cell_type": "code",
   "execution_count": 15,
   "metadata": {},
   "outputs": [
    {
     "data": {
      "text/plain": [
       "(39.270317825, 45.165261425)"
      ]
     },
     "execution_count": 15,
     "metadata": {},
     "output_type": "execute_result"
    }
   ],
   "source": [
    "x, y"
   ]
  },
  {
   "cell_type": "code",
   "execution_count": 17,
   "metadata": {},
   "outputs": [
    {
     "data": {
      "text/plain": [
       "(39.27526366803884, 45.24591724335691)"
      ]
     },
     "execution_count": 17,
     "metadata": {},
     "output_type": "execute_result"
    }
   ],
   "source": [
    "x, y"
   ]
  },
  {
   "cell_type": "code",
   "execution_count": 16,
   "metadata": {
    "collapsed": true
   },
   "outputs": [],
   "source": [
    "x, y = mid([i['geometry']['coordinates'][0][0][0] for i in objs['features']]).tup()"
   ]
  },
  {
   "cell_type": "code",
   "execution_count": 80,
   "metadata": {
    "collapsed": true
   },
   "outputs": [],
   "source": [
    "ans = requests.get('https://rest.soilgrids.org/query?lon={}&lat={}&attributes=TAXNWRB,PHIHOX'.format(x, y))"
   ]
  },
  {
   "cell_type": "code",
   "execution_count": 82,
   "metadata": {
    "collapsed": true
   },
   "outputs": [],
   "source": [
    "res = ans.json()['properties']"
   ]
  },
  {
   "cell_type": "code",
   "execution_count": 84,
   "metadata": {},
   "outputs": [
    {
     "data": {
      "text/plain": [
       "{'PHIHOX': {'M': {'sl1': 68,\n",
       "   'sl2': 67,\n",
       "   'sl3': 67,\n",
       "   'sl4': 68,\n",
       "   'sl5': 70,\n",
       "   'sl6': 70,\n",
       "   'sl7': 72},\n",
       "  'units_of_measure': 'index*10'},\n",
       " 'TAXNWRB': {'Acric Ferralsols': 0,\n",
       "  'Acric Plinthosols': 0,\n",
       "  'Albic Arenosols': 0,\n",
       "  'Albic Luvisols': 2,\n",
       "  'Alic Nitisols': 0,\n",
       "  'Aluandic Andosols': 0,\n",
       "  'Aric Regosols': 0,\n",
       "  'Calcaric Regosols': 0,\n",
       "  'Calcic Chernozems': 1,\n",
       "  'Calcic Gleysols': 1,\n",
       "  'Calcic Gypsisols': 0,\n",
       "  'Calcic Histosols': 0,\n",
       "  'Calcic Kastanozems': 1,\n",
       "  'Calcic Luvisols': 0,\n",
       "  'Calcic Solonetz': 1,\n",
       "  'Calcic Vertisols': 2,\n",
       "  'Cryic Histosols': 0,\n",
       "  'Cutanic Alisols': 0,\n",
       "  'Endogleyic Cambisols': 2,\n",
       "  'Endogleyic Planosols': 0,\n",
       "  'Ferralic Arenosols': 0,\n",
       "  'Ferralic Cambisols': 0,\n",
       "  'Fibric Histosols': 0,\n",
       "  'Gleyic Luvisols': 6,\n",
       "  'Gleyic Podzols': 0,\n",
       "  'Gleyic Solonetz': 2,\n",
       "  'Gypsic Solonchaks': 0,\n",
       "  'Haplic Acrisols': 1,\n",
       "  'Haplic Acrisols (Alumic)': 0,\n",
       "  'Haplic Acrisols (Ferric)': 0,\n",
       "  'Haplic Acrisols (Humic)': 0,\n",
       "  'Haplic Albeluvisols': 0,\n",
       "  'Haplic Alisols': 0,\n",
       "  'Haplic Andosols': 0,\n",
       "  'Haplic Arenosols': 0,\n",
       "  'Haplic Arenosols (Calcaric)': 1,\n",
       "  'Haplic Calcisols': 1,\n",
       "  'Haplic Calcisols (Sodic)': 0,\n",
       "  'Haplic Cambisols': 4,\n",
       "  'Haplic Cambisols (Calcaric)': 0,\n",
       "  'Haplic Cambisols (Chromic)': 0,\n",
       "  'Haplic Cambisols (Dystric)': 0,\n",
       "  'Haplic Cambisols (Eutric)': 1,\n",
       "  'Haplic Cambisols (Humic)': 1,\n",
       "  'Haplic Cambisols (Sodic)': 0,\n",
       "  'Haplic Chernozems': 20,\n",
       "  'Haplic Cryosols': 0,\n",
       "  'Haplic Ferralsols': 0,\n",
       "  'Haplic Ferralsols (Rhodic)': 0,\n",
       "  'Haplic Ferralsols (Xanthic)': 0,\n",
       "  'Haplic Fluvisols': 1,\n",
       "  'Haplic Fluvisols (Arenic)': 0,\n",
       "  'Haplic Fluvisols (Calcaric)': 2,\n",
       "  'Haplic Fluvisols (Dystric)': 0,\n",
       "  'Haplic Fluvisols (Eutric)': 3,\n",
       "  'Haplic Gleysols': 4,\n",
       "  'Haplic Gleysols (Dystric)': 0,\n",
       "  'Haplic Gleysols (Eutric)': 4,\n",
       "  'Haplic Gypsisols': 0,\n",
       "  'Haplic Kastanozems': 1,\n",
       "  'Haplic Leptosols': 0,\n",
       "  'Haplic Leptosols (Eutric)': 0,\n",
       "  'Haplic Lixisols': 0,\n",
       "  'Haplic Lixisols (Chromic)': 0,\n",
       "  'Haplic Lixisols (Ferric)': 0,\n",
       "  'Haplic Luvisols': 8,\n",
       "  'Haplic Luvisols (Chromic)': 0,\n",
       "  'Haplic Luvisols (Ferric)': 0,\n",
       "  'Haplic Nitisols (Rhodic)': 0,\n",
       "  'Haplic Phaeozems': 3,\n",
       "  'Haplic Planosols (Dystric)': 0,\n",
       "  'Haplic Planosols (Eutric)': 1,\n",
       "  'Haplic Podzols': 0,\n",
       "  'Haplic Regosols (Dystric)': 0,\n",
       "  'Haplic Regosols (Eutric)': 1,\n",
       "  'Haplic Regosols (Sodic)': 0,\n",
       "  'Haplic Solonchaks': 0,\n",
       "  'Haplic Solonchaks (Sodic)': 0,\n",
       "  'Haplic Solonetz': 0,\n",
       "  'Haplic Umbrisols': 0,\n",
       "  'Haplic Vertisols': 3,\n",
       "  'Haplic Vertisols (Eutric)': 0,\n",
       "  'Hemic Histosols': 1,\n",
       "  'Histic Albeluvisols': 0,\n",
       "  'Hypoluvic Arenosols': 0,\n",
       "  'Leptic Cambisols': 0,\n",
       "  'Leptic Luvisols': 0,\n",
       "  'Leptic Phaeozems': 0,\n",
       "  'Leptic Regosols': 0,\n",
       "  'Leptic Umbrisols': 0,\n",
       "  'Lithic Leptosols': 0,\n",
       "  'Lixic Plinthosols': 0,\n",
       "  'Luvic Calcisols': 0,\n",
       "  'Luvic Chernozems': 12,\n",
       "  'Luvic Phaeozems': 1,\n",
       "  'Luvic Planosols': 0,\n",
       "  'Luvic Stagnosols': 0,\n",
       "  'Mollic Gleysols': 0,\n",
       "  'Mollic Leptosols': 0,\n",
       "  'Mollic Solonetz': 0,\n",
       "  'Mollic Vertisols': 1,\n",
       "  'Petric Calcisols': 0,\n",
       "  'Petric Durisols': 0,\n",
       "  'Plinthic Acrisols': 0,\n",
       "  'Protic Arenosols': 0,\n",
       "  'Rendzic Leptosols': 0,\n",
       "  'Sapric Histosols': 0,\n",
       "  'Solodic Planosols': 0,\n",
       "  'Stagnic Luvisols': 2,\n",
       "  'Turbic Cryosols': 0,\n",
       "  'Umbric Albeluvisols': 0,\n",
       "  'Umbric Ferralsols': 0,\n",
       "  'Umbric Gleysols': 1,\n",
       "  'Vertic Cambisols': 1,\n",
       "  'Vertic Luvisols': 0,\n",
       "  'Vetic Acrisols': 0,\n",
       "  'Vitric Andosols': 0,\n",
       "  'Vitric Cryosols': 0},\n",
       " 'TAXNWRBMajor': 'Haplic Chernozems',\n",
       " 'depthCodesMeters': {'sd1': -0.025,\n",
       "  'sd2': -0.1,\n",
       "  'sd3': -0.225,\n",
       "  'sd4': -0.45,\n",
       "  'sd5': -0.8,\n",
       "  'sd6': -1.5,\n",
       "  'sl1': 0.0,\n",
       "  'sl2': -0.05,\n",
       "  'sl3': -0.15,\n",
       "  'sl4': -0.3,\n",
       "  'sl5': -0.6,\n",
       "  'sl6': -1.0,\n",
       "  'sl7': -2.0,\n",
       "  'xd1': -0.2,\n",
       "  'xd2': -0.5},\n",
       " 'publication_date': '10-03-2017',\n",
       " 'soilmask': 'soil'}"
      ]
     },
     "execution_count": 84,
     "metadata": {},
     "output_type": "execute_result"
    }
   ],
   "source": [
    "res"
   ]
  },
  {
   "cell_type": "code",
   "execution_count": 91,
   "metadata": {},
   "outputs": [
    {
     "data": {
      "text/plain": [
       "dict_items([('Acric Ferralsols', 0), ('Acric Plinthosols', 0), ('Albic Arenosols', 0), ('Albic Luvisols', 2), ('Alic Nitisols', 0), ('Aluandic Andosols', 0), ('Aric Regosols', 0), ('Calcaric Regosols', 0), ('Calcic Chernozems', 1), ('Calcic Gleysols', 1), ('Calcic Gypsisols', 0), ('Calcic Histosols', 0), ('Calcic Kastanozems', 1), ('Calcic Luvisols', 0), ('Calcic Solonetz', 1), ('Calcic Vertisols', 2), ('Cryic Histosols', 0), ('Cutanic Alisols', 0), ('Endogleyic Cambisols', 2), ('Endogleyic Planosols', 0), ('Ferralic Arenosols', 0), ('Ferralic Cambisols', 0), ('Fibric Histosols', 0), ('Gleyic Luvisols', 6), ('Gleyic Podzols', 0), ('Gleyic Solonetz', 2), ('Gypsic Solonchaks', 0), ('Haplic Acrisols', 1), ('Haplic Acrisols (Alumic)', 0), ('Haplic Acrisols (Ferric)', 0), ('Haplic Acrisols (Humic)', 0), ('Haplic Albeluvisols', 0), ('Haplic Alisols', 0), ('Haplic Andosols', 0), ('Haplic Arenosols', 0), ('Haplic Arenosols (Calcaric)', 1), ('Haplic Calcisols', 1), ('Haplic Calcisols (Sodic)', 0), ('Haplic Cambisols', 4), ('Haplic Cambisols (Calcaric)', 0), ('Haplic Cambisols (Chromic)', 0), ('Haplic Cambisols (Dystric)', 0), ('Haplic Cambisols (Eutric)', 1), ('Haplic Cambisols (Humic)', 1), ('Haplic Cambisols (Sodic)', 0), ('Haplic Chernozems', 20), ('Haplic Cryosols', 0), ('Haplic Ferralsols', 0), ('Haplic Ferralsols (Rhodic)', 0), ('Haplic Ferralsols (Xanthic)', 0), ('Haplic Fluvisols', 1), ('Haplic Fluvisols (Arenic)', 0), ('Haplic Fluvisols (Calcaric)', 2), ('Haplic Fluvisols (Dystric)', 0), ('Haplic Fluvisols (Eutric)', 3), ('Haplic Gleysols', 4), ('Haplic Gleysols (Dystric)', 0), ('Haplic Gleysols (Eutric)', 4), ('Haplic Gypsisols', 0), ('Haplic Kastanozems', 1), ('Haplic Leptosols', 0), ('Haplic Leptosols (Eutric)', 0), ('Haplic Lixisols', 0), ('Haplic Lixisols (Chromic)', 0), ('Haplic Lixisols (Ferric)', 0), ('Haplic Luvisols', 8), ('Haplic Luvisols (Chromic)', 0), ('Haplic Luvisols (Ferric)', 0), ('Haplic Nitisols (Rhodic)', 0), ('Haplic Phaeozems', 3), ('Haplic Planosols (Dystric)', 0), ('Haplic Planosols (Eutric)', 1), ('Haplic Podzols', 0), ('Haplic Regosols (Dystric)', 0), ('Haplic Regosols (Eutric)', 1), ('Haplic Regosols (Sodic)', 0), ('Haplic Solonchaks', 0), ('Haplic Solonchaks (Sodic)', 0), ('Haplic Solonetz', 0), ('Haplic Umbrisols', 0), ('Haplic Vertisols', 3), ('Haplic Vertisols (Eutric)', 0), ('Hemic Histosols', 1), ('Histic Albeluvisols', 0), ('Hypoluvic Arenosols', 0), ('Leptic Cambisols', 0), ('Leptic Luvisols', 0), ('Leptic Phaeozems', 0), ('Leptic Regosols', 0), ('Leptic Umbrisols', 0), ('Lithic Leptosols', 0), ('Lixic Plinthosols', 0), ('Luvic Calcisols', 0), ('Luvic Chernozems', 12), ('Luvic Phaeozems', 1), ('Luvic Planosols', 0), ('Luvic Stagnosols', 0), ('Mollic Gleysols', 0), ('Mollic Leptosols', 0), ('Mollic Solonetz', 0), ('Mollic Vertisols', 1), ('Petric Calcisols', 0), ('Petric Durisols', 0), ('Plinthic Acrisols', 0), ('Protic Arenosols', 0), ('Rendzic Leptosols', 0), ('Sapric Histosols', 0), ('Solodic Planosols', 0), ('Stagnic Luvisols', 2), ('Turbic Cryosols', 0), ('Umbric Albeluvisols', 0), ('Umbric Ferralsols', 0), ('Umbric Gleysols', 1), ('Vertic Cambisols', 1), ('Vertic Luvisols', 0), ('Vetic Acrisols', 0), ('Vitric Andosols', 0), ('Vitric Cryosols', 0)])"
      ]
     },
     "execution_count": 91,
     "metadata": {},
     "output_type": "execute_result"
    }
   ],
   "source": [
    "res['TAXNWRB'].items()"
   ]
  },
  {
   "cell_type": "code",
   "execution_count": 114,
   "metadata": {
    "collapsed": true
   },
   "outputs": [],
   "source": [
    "def get_properties(lon, lat):\n",
    "    ans = requests.get('https://rest.soilgrids.org/query?lon={}&lat={}&attributes=TAXNWRB,PHIHOX'.format(x, y))\n",
    "    return ans.json()['properties']\n",
    "def get_info(lon, lat):\n",
    "    props = get_properties(lon, lat)\n",
    "    soils = list(sorted([(i[1], i[0]) for i in props['TAXNWRB'].items()]))\n",
    "    acidity = props['PHIHOX']['M'][list(props['PHIHOX']['M'].keys())[0]]\n",
    "    return {'acidity':acidity, 'soils':[(i[1], i[0]) for i in soils[-3:][::-1]]}"
   ]
  },
  {
   "cell_type": "code",
   "execution_count": 115,
   "metadata": {
    "collapsed": true
   },
   "outputs": [],
   "source": [
    "inf = get_info(x, y)"
   ]
  },
  {
   "cell_type": "code",
   "execution_count": 116,
   "metadata": {
    "scrolled": true
   },
   "outputs": [
    {
     "data": {
      "text/plain": [
       "{'acidity': 68,\n",
       " 'soils': [('Haplic Chernozems', 20),\n",
       "  ('Luvic Chernozems', 12),\n",
       "  ('Haplic Luvisols', 8)]}"
      ]
     },
     "execution_count": 116,
     "metadata": {},
     "output_type": "execute_result"
    }
   ],
   "source": [
    "inf"
   ]
  },
  {
   "cell_type": "code",
   "execution_count": 43,
   "metadata": {},
   "outputs": [
    {
     "name": "stdout",
     "output_type": "stream",
     "text": [
      "ул. Ростовское ш., 12/3, Краснодар, Краснодарский край, Россия, 350010\n",
      "Центральный округ, Краснодар, Краснодарский край, Россия\n",
      "Краснодар, Краснодарский край, Россия\n",
      "Краснодар, Краснодарский край, Россия, 350010\n",
      "г. Краснодар, Краснодарский край, Россия\n",
      "Краснодарский край, Россия\n",
      "Россия\n"
     ]
    }
   ],
   "source": [
    "for i in a['results']:\n",
    "    print(i['formatted_address'])"
   ]
  }
 ],
 "metadata": {
  "kernelspec": {
   "display_name": "Python 3",
   "language": "python",
   "name": "python3"
  },
  "language_info": {
   "codemirror_mode": {
    "name": "ipython",
    "version": 3
   },
   "file_extension": ".py",
   "mimetype": "text/x-python",
   "name": "python",
   "nbconvert_exporter": "python",
   "pygments_lexer": "ipython3",
   "version": "3.6.4"
  }
 },
 "nbformat": 4,
 "nbformat_minor": 2
}
